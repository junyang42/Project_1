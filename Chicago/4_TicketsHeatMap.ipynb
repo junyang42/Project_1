{
 "cells": [
  {
   "cell_type": "markdown",
   "metadata": {},
   "source": [
    "# Create Heat Maps for Red Light Camera Tickets\n",
    "* Daily Average per location\n",
    "* Average per 1,000 vehicles per location"
   ]
  },
  {
   "cell_type": "markdown",
   "metadata": {},
   "source": [
    "### Set up dependencies"
   ]
  },
  {
   "cell_type": "code",
   "execution_count": 1,
   "metadata": {},
   "outputs": [],
   "source": [
    "# Import dependencies and key\n",
    "import pandas as pd\n",
    "import gmaps\n",
    "from IPython.display import Image\n",
    "\n",
    "# Google developer API key\n",
    "from config import gkey\n",
    "\n",
    "# Configure gmaps\n",
    "gmaps.configure(api_key=gkey)\n",
    "\n",
    "# address file to read (generated from 'ChicagoTrafficCount.ipynb')\n",
    "csv_file = \"Chicago_Count_AADT_by_Location.csv\""
   ]
  },
  {
   "cell_type": "markdown",
   "metadata": {},
   "source": [
    "### Read ticket data"
   ]
  },
  {
   "cell_type": "code",
   "execution_count": 2,
   "metadata": {},
   "outputs": [
    {
     "name": "stdout",
     "output_type": "stream",
     "text": [
      "Number of locations: 465\n"
     ]
    },
    {
     "data": {
      "text/html": [
       "<div>\n",
       "<style scoped>\n",
       "    .dataframe tbody tr th:only-of-type {\n",
       "        vertical-align: middle;\n",
       "    }\n",
       "\n",
       "    .dataframe tbody tr th {\n",
       "        vertical-align: top;\n",
       "    }\n",
       "\n",
       "    .dataframe thead th {\n",
       "        text-align: right;\n",
       "    }\n",
       "</style>\n",
       "<table border=\"1\" class=\"dataframe\">\n",
       "  <thead>\n",
       "    <tr style=\"text-align: right;\">\n",
       "      <th></th>\n",
       "      <th>Unnamed: 0</th>\n",
       "      <th>address</th>\n",
       "      <th>Total</th>\n",
       "      <th>First Ticket Date</th>\n",
       "      <th>Last Ticket Date</th>\n",
       "      <th>Days</th>\n",
       "      <th>Daily Avg</th>\n",
       "      <th>Lat</th>\n",
       "      <th>Lng</th>\n",
       "      <th>zipcode</th>\n",
       "      <th>Traffic Loc Found</th>\n",
       "      <th>Radius</th>\n",
       "      <th>Traffic Address</th>\n",
       "      <th>Date_count</th>\n",
       "      <th>Total Volume</th>\n",
       "      <th>Vol by Direction</th>\n",
       "      <th>Ticket per 1000 AADT</th>\n",
       "    </tr>\n",
       "  </thead>\n",
       "  <tbody>\n",
       "    <tr>\n",
       "      <th>0</th>\n",
       "      <td>0</td>\n",
       "      <td>1 E 63RD ST</td>\n",
       "      <td>12038</td>\n",
       "      <td>3/3/2014</td>\n",
       "      <td>4/27/2018</td>\n",
       "      <td>1517</td>\n",
       "      <td>7.935399</td>\n",
       "      <td>41.780047</td>\n",
       "      <td>-87.625323</td>\n",
       "      <td>60637.0</td>\n",
       "      <td>3.0</td>\n",
       "      <td>500.0</td>\n",
       "      <td>120 East 63rd St</td>\n",
       "      <td>2006-03-28T08:00:00.000Z</td>\n",
       "      <td>12400.0</td>\n",
       "      <td>East Bound: 7800 / West Bound: 4600</td>\n",
       "      <td>1.279903</td>\n",
       "    </tr>\n",
       "    <tr>\n",
       "      <th>1</th>\n",
       "      <td>1</td>\n",
       "      <td>1 E 75TH STREET</td>\n",
       "      <td>15159</td>\n",
       "      <td>3/1/2014</td>\n",
       "      <td>4/27/2018</td>\n",
       "      <td>1519</td>\n",
       "      <td>9.979592</td>\n",
       "      <td>41.758293</td>\n",
       "      <td>-87.616316</td>\n",
       "      <td>60619.0</td>\n",
       "      <td>5.0</td>\n",
       "      <td>500.0</td>\n",
       "      <td>504 East 75th St</td>\n",
       "      <td>2006-03-28T08:00:00.000Z</td>\n",
       "      <td>16100.0</td>\n",
       "      <td>East Bound: 8500 / West Bound: 7600</td>\n",
       "      <td>1.239701</td>\n",
       "    </tr>\n",
       "    <tr>\n",
       "      <th>2</th>\n",
       "      <td>2</td>\n",
       "      <td>1 E 79TH STREET</td>\n",
       "      <td>38135</td>\n",
       "      <td>3/1/2014</td>\n",
       "      <td>4/27/2018</td>\n",
       "      <td>1519</td>\n",
       "      <td>25.105332</td>\n",
       "      <td>41.750619</td>\n",
       "      <td>-87.624256</td>\n",
       "      <td>60619.0</td>\n",
       "      <td>2.0</td>\n",
       "      <td>500.0</td>\n",
       "      <td>20 East 79th St</td>\n",
       "      <td>2006-03-28T08:00:00.000Z</td>\n",
       "      <td>20700.0</td>\n",
       "      <td>East Bound: 11300 / West Bound: 9400</td>\n",
       "      <td>2.425636</td>\n",
       "    </tr>\n",
       "    <tr>\n",
       "      <th>3</th>\n",
       "      <td>3</td>\n",
       "      <td>1 N ASHLAND AVE</td>\n",
       "      <td>7229</td>\n",
       "      <td>3/1/2014</td>\n",
       "      <td>4/27/2018</td>\n",
       "      <td>1519</td>\n",
       "      <td>4.759052</td>\n",
       "      <td>41.899593</td>\n",
       "      <td>-87.667609</td>\n",
       "      <td>60622.0</td>\n",
       "      <td>7.0</td>\n",
       "      <td>500.0</td>\n",
       "      <td>755 North Ashland Ave</td>\n",
       "      <td>2006-10-26T07:00:00.000Z</td>\n",
       "      <td>30500.0</td>\n",
       "      <td>North Bound: 15800 / South Bound: 14700</td>\n",
       "      <td>0.312069</td>\n",
       "    </tr>\n",
       "    <tr>\n",
       "      <th>4</th>\n",
       "      <td>4</td>\n",
       "      <td>1 N HALSTED STREET</td>\n",
       "      <td>5696</td>\n",
       "      <td>3/1/2014</td>\n",
       "      <td>4/27/2018</td>\n",
       "      <td>1519</td>\n",
       "      <td>3.749835</td>\n",
       "      <td>41.882169</td>\n",
       "      <td>-87.646977</td>\n",
       "      <td>60661.0</td>\n",
       "      <td>14.0</td>\n",
       "      <td>500.0</td>\n",
       "      <td>159 North Halsted St</td>\n",
       "      <td>2006-10-02T07:00:00.000Z</td>\n",
       "      <td>20000.0</td>\n",
       "      <td>North Bound: 10200 / South Bound: 9800</td>\n",
       "      <td>0.374984</td>\n",
       "    </tr>\n",
       "  </tbody>\n",
       "</table>\n",
       "</div>"
      ],
      "text/plain": [
       "   Unnamed: 0             address  Total First Ticket Date Last Ticket Date  \\\n",
       "0           0         1 E 63RD ST  12038          3/3/2014        4/27/2018   \n",
       "1           1     1 E 75TH STREET  15159          3/1/2014        4/27/2018   \n",
       "2           2     1 E 79TH STREET  38135          3/1/2014        4/27/2018   \n",
       "3           3     1 N ASHLAND AVE   7229          3/1/2014        4/27/2018   \n",
       "4           4  1 N HALSTED STREET   5696          3/1/2014        4/27/2018   \n",
       "\n",
       "   Days  Daily Avg        Lat        Lng  zipcode  Traffic Loc Found  Radius  \\\n",
       "0  1517   7.935399  41.780047 -87.625323  60637.0                3.0   500.0   \n",
       "1  1519   9.979592  41.758293 -87.616316  60619.0                5.0   500.0   \n",
       "2  1519  25.105332  41.750619 -87.624256  60619.0                2.0   500.0   \n",
       "3  1519   4.759052  41.899593 -87.667609  60622.0                7.0   500.0   \n",
       "4  1519   3.749835  41.882169 -87.646977  60661.0               14.0   500.0   \n",
       "\n",
       "         Traffic Address                Date_count  Total Volume  \\\n",
       "0       120 East 63rd St  2006-03-28T08:00:00.000Z       12400.0   \n",
       "1       504 East 75th St  2006-03-28T08:00:00.000Z       16100.0   \n",
       "2        20 East 79th St  2006-03-28T08:00:00.000Z       20700.0   \n",
       "3  755 North Ashland Ave  2006-10-26T07:00:00.000Z       30500.0   \n",
       "4   159 North Halsted St  2006-10-02T07:00:00.000Z       20000.0   \n",
       "\n",
       "                          Vol by Direction  Ticket per 1000 AADT  \n",
       "0      East Bound: 7800 / West Bound: 4600              1.279903  \n",
       "1      East Bound: 8500 / West Bound: 7600              1.239701  \n",
       "2     East Bound: 11300 / West Bound: 9400              2.425636  \n",
       "3  North Bound: 15800 / South Bound: 14700              0.312069  \n",
       "4   North Bound: 10200 / South Bound: 9800              0.374984  "
      ]
     },
     "execution_count": 2,
     "metadata": {},
     "output_type": "execute_result"
    }
   ],
   "source": [
    "df = pd.read_csv(csv_file)\n",
    "print(f\"Number of locations: {df.shape[0]}\")\n",
    "df.head()"
   ]
  },
  {
   "cell_type": "markdown",
   "metadata": {},
   "source": [
    "### Daily Avg Heat Map"
   ]
  },
  {
   "cell_type": "code",
   "execution_count": 3,
   "metadata": {},
   "outputs": [],
   "source": [
    "# Heat Map Data to plot\n",
    "locations = df[[\"Lat\", \"Lng\"]]\n",
    "weights = df['Daily Avg']\n",
    "\n",
    "# Top 5 locations to show as markers\n",
    "df_top5 = df.nlargest(5,'Daily Avg')[['address', 'Daily Avg', 'Lat', 'Lng']]\n",
    "df_top5['Daily Avg'] = df_top5['Daily Avg'].round(0)\n",
    "\n",
    "# Using the template add marks to the heatmap\n",
    "info_box_template = \"\"\"\n",
    "<dl>\n",
    "<dt>Loc</dt><dd>{address}</dd>\n",
    "<dt>Daily Tix #</dt><dd>{Daily Avg}</dd>\n",
    "</dl>\n",
    "\"\"\"\n",
    "\n",
    "# Store the DataFrame Row\n",
    "camera_info = [info_box_template.format(**row) for index, row in df_top5.iterrows()]\n",
    "loc_top5 = df_top5[[\"Lat\", \"Lng\"]]"
   ]
  },
  {
   "cell_type": "code",
   "execution_count": 4,
   "metadata": {},
   "outputs": [
    {
     "data": {
      "application/vnd.jupyter.widget-view+json": {
       "model_id": "7bb3cbd10bed4d03ad9a121a8506dec8",
       "version_major": 2,
       "version_minor": 0
      },
      "text/plain": [
       "Figure(layout=FigureLayout(height='800px', width='500px'))"
      ]
     },
     "metadata": {},
     "output_type": "display_data"
    }
   ],
   "source": [
    "# Plot Map\n",
    "fig = gmaps.figure(\n",
    "    layout={\n",
    "        'width': '500px',\n",
    "        'height': '800px'\n",
    "    }\n",
    ")\n",
    "\n",
    "# Create and add heat layer\n",
    "heat_layer = gmaps.heatmap_layer(\n",
    "    locations,\n",
    "    weights=weights, \n",
    "    dissipating=False,\n",
    "    max_intensity=max(weights),\n",
    "    point_radius=0.02)\n",
    "fig.add_layer(heat_layer)\n",
    "\n",
    "# Create and add marker layer\n",
    "markers = gmaps.marker_layer(\n",
    "    loc_top5,\n",
    "    info_box_content=camera_info\n",
    ")\n",
    "fig.add_layer(markers)\n",
    "\n",
    "# Display figure\n",
    "fig"
   ]
  },
  {
   "cell_type": "markdown",
   "metadata": {},
   "source": [
    "![title](DailyAvgHeatMap.png)"
   ]
  },
  {
   "cell_type": "markdown",
   "metadata": {},
   "source": [
    "### Average per 1,000 Vehicles Map"
   ]
  },
  {
   "cell_type": "code",
   "execution_count": 5,
   "metadata": {},
   "outputs": [],
   "source": [
    "df_aadt = df.dropna()\n",
    "\n",
    "# Heat Map Data to plot\n",
    "locations_aadt = df_aadt[[\"Lat\", \"Lng\"]]\n",
    "weights_aadt = df_aadt['Ticket per 1000 AADT']\n",
    "\n",
    "# Top 5 locations to show as markers\n",
    "df_aadt_top5 = df_aadt.nlargest(5,'Ticket per 1000 AADT')[[\n",
    "    'address', 'Ticket per 1000 AADT', 'Lat', 'Lng']]\n",
    "df_aadt_top5['Ticket per 1000 AADT'] = \\\n",
    "    df_aadt_top5['Ticket per 1000 AADT'].round(1)\n",
    "\n",
    "# Using the template add marks to the heatmap\n",
    "info_box_template = \"\"\"\n",
    "<dl>\n",
    "<dt>Loc</dt><dd>{address}</dd>\n",
    "<dt>Tix per 1,000 Vehicle #</dt><dd>{Ticket per 1000 AADT}</dd>\n",
    "</dl>\n",
    "\"\"\"\n",
    "\n",
    "# Store the DataFrame Row\n",
    "camera_info_aadt = [info_box_template.format(**row) for index, row in df_aadt_top5.iterrows()]\n",
    "loc_aadt_top5 = df_aadt_top5[[\"Lat\", \"Lng\"]]"
   ]
  },
  {
   "cell_type": "code",
   "execution_count": 6,
   "metadata": {},
   "outputs": [
    {
     "data": {
      "application/vnd.jupyter.widget-view+json": {
       "model_id": "380d87996aa74bae81d03e77da0e5e42",
       "version_major": 2,
       "version_minor": 0
      },
      "text/plain": [
       "Figure(layout=FigureLayout(height='800px', width='500px'))"
      ]
     },
     "metadata": {},
     "output_type": "display_data"
    }
   ],
   "source": [
    "# Plot Map\n",
    "fig2 = gmaps.figure(\n",
    "    layout={\n",
    "        'width': '500px',\n",
    "        'height': '800px'\n",
    "    }\n",
    ")\n",
    "\n",
    "# Create and add heat layer\n",
    "heat_layer = gmaps.heatmap_layer(\n",
    "    locations_aadt,\n",
    "    weights=weights_aadt, \n",
    "    dissipating=False,\n",
    "    max_intensity=max(weights_aadt),\n",
    "    point_radius=0.02)\n",
    "fig2.add_layer(heat_layer)\n",
    "\n",
    "# Create and add marker layer\n",
    "markers = gmaps.marker_layer(\n",
    "    loc_aadt_top5,\n",
    "    info_box_content=camera_info_aadt\n",
    ")\n",
    "fig2.add_layer(markers)\n",
    "\n",
    "# Display figure\n",
    "fig2"
   ]
  },
  {
   "cell_type": "markdown",
   "metadata": {},
   "source": [
    "![title](AvgPerVehicleHeatMap.png)"
   ]
  },
  {
   "cell_type": "code",
   "execution_count": null,
   "metadata": {},
   "outputs": [],
   "source": []
  }
 ],
 "metadata": {
  "kernelspec": {
   "display_name": "Python 3",
   "language": "python",
   "name": "python3"
  },
  "language_info": {
   "codemirror_mode": {
    "name": "ipython",
    "version": 3
   },
   "file_extension": ".py",
   "mimetype": "text/x-python",
   "name": "python",
   "nbconvert_exporter": "python",
   "pygments_lexer": "ipython3",
   "version": "3.7.4"
  }
 },
 "nbformat": 4,
 "nbformat_minor": 4
}
